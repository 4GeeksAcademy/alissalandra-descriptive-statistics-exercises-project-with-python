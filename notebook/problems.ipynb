{
    "cells": [
        {
            "cell_type": "markdown",
            "id": "ac622319",
            "metadata": {},
            "source": [
                "# Descriptive statistics problems"
            ]
        },
        {
            "cell_type": "markdown",
            "id": "aa8993e4",
            "metadata": {},
            "source": [
                "### Exercise 1"
            ]
        },
        {
            "cell_type": "markdown",
            "id": "5e0ab0d5",
            "metadata": {},
            "source": [
                "We will use Numpy to obtain information to describe statistically.\n",
                "\n",
                "- Generate an array of 100 elements following a normal distribution.\n",
                "- Generate an array of 100 elements following a chi-square distribution with 3 degrees of freedom.\n",
                "- Calculate the main metrics and statistical measures that best describe the two vectors."
            ]
        },
        {
            "cell_type": "code",
            "execution_count": 4,
            "id": "34720ab6",
            "metadata": {},
            "outputs": [
                {
                    "name": "stdout",
                    "output_type": "stream",
                    "text": [
                        "Statistics for the normal distribution array:\n",
                        "Mean: -0.06663812409153858\n",
                        "Standard Deviation: 1.0009740808508594\n",
                        "Variance: 1.001949110535223\n",
                        "Minimum: -2.166234257406768\n",
                        "Maximum: 3.352259479754323\n",
                        "Median: -0.02783609485166493\n",
                        "Statistics for the chi-square array:\n",
                        "Mean: 2.7393080771004126\n",
                        "Standard Deviation: 2.1093233631777415\n",
                        "Variance: 4.449245050447458\n",
                        "Minimum: 0.1576495163923147\n",
                        "Maximum: 9.479713616635616\n",
                        "Median: 1.9907597549158944\n"
                    ]
                }
            ],
            "source": [
                "import numpy as np\n",
                "normal_array = np.random.normal(loc=0.0, scale=1.0, size=100)\n",
                "chi_square_array = np.random.chisquare(df=3, size=100)\n",
                "\n",
                "normal_mean = np.mean(normal_array)\n",
                "normal_std = np.std(normal_array)\n",
                "normal_var = np.var(normal_array)\n",
                "normal_min = np.min(normal_array)\n",
                "normal_max = np.max(normal_array)\n",
                "normal_median = np.median(normal_array)\n",
                "\n",
                "chi_square_mean = np.mean(chi_square_array)\n",
                "chi_square_std = np.std(chi_square_array)\n",
                "chi_square_var = np.var(chi_square_array)\n",
                "chi_square_min = np.min(chi_square_array)\n",
                "chi_square_max = np.max(chi_square_array)\n",
                "chi_square_median = np.median(chi_square_array)\n",
                "\n",
                "print(\"Statistics for the normal distribution array:\")\n",
                "print(f\"Mean: {normal_mean}\")\n",
                "print(f\"Standard Deviation: {normal_std}\")\n",
                "print(f\"Variance: {normal_var}\")\n",
                "print(f\"Minimum: {normal_min}\")\n",
                "print(f\"Maximum: {normal_max}\")\n",
                "print(f\"Median: {normal_median}\")\n",
                "\n",
                "print(\"Statistics for the chi-square array:\")\n",
                "print(f\"Mean: {chi_square_mean}\")\n",
                "print(f\"Standard Deviation: {chi_square_std}\")\n",
                "print(f\"Variance: {chi_square_var}\")\n",
                "print(f\"Minimum: {chi_square_min}\")\n",
                "print(f\"Maximum: {chi_square_max}\")\n",
                "print(f\"Median: {chi_square_median}\")"
            ]
        },
        {
            "cell_type": "markdown",
            "id": "46c70c3d",
            "metadata": {},
            "source": [
                "### Exercise 2\n",
                "\n",
                "Write a Python program to calculate the standard deviation of the following data:\n",
                "\n",
                "```py\n",
                "data = [4, 2, 5, 8, 6]\n",
                "```"
            ]
        },
        {
            "cell_type": "code",
            "execution_count": 17,
            "id": "d590308e",
            "metadata": {},
            "outputs": [
                {
                    "name": "stdout",
                    "output_type": "stream",
                    "text": [
                        "Standard deviation: 2.23606797749979\n"
                    ]
                }
            ],
            "source": [
                "data = [4, 2, 5, 8, 6]\n",
                "\n",
                "def calculate_standard_deviation(data):\n",
                "    mean_data = sum(data) / len(data)\n",
                "    squared_diff = [(x - mean_data) ** 2 for x in data]\n",
                "    mean_squared_diff = sum(squared_diff) / (len(data) - 1)\n",
                "    std_deviation = mean_squared_diff ** 0.5\n",
                "    return std_deviation\n",
                "\n",
                "std_deviation = calculate_standard_deviation(data)\n",
                "print(\"Standard deviation:\", std_deviation)\n",
                "\n"
            ]
        }
    ],
    "metadata": {
        "interpreter": {
            "hash": "9248718ffe6ce6938b217e69dbcc175ea21f4c6b28a317e96c05334edae734bb"
        },
        "kernelspec": {
            "display_name": "Python 3.9.12 ('ML-BOOTCAMP')",
            "language": "python",
            "name": "python3"
        },
        "language_info": {
            "codemirror_mode": {
                "name": "ipython",
                "version": 3
            },
            "file_extension": ".py",
            "mimetype": "text/x-python",
            "name": "python",
            "nbconvert_exporter": "python",
            "pygments_lexer": "ipython3",
            "version": "3.11.4"
        }
    },
    "nbformat": 4,
    "nbformat_minor": 5
}
